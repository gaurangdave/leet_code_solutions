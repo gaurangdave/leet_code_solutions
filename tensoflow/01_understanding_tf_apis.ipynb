{
 "cells": [
  {
   "cell_type": "markdown",
   "id": "ca703bdd",
   "metadata": {},
   "source": [
    "# Understanding TensorFlow APIs"
   ]
  },
  {
   "cell_type": "code",
   "execution_count": 2,
   "id": "22f1d7ad",
   "metadata": {},
   "outputs": [
    {
     "name": "stderr",
     "output_type": "stream",
     "text": [
      "2025-09-12 10:20:49.613962: I tensorflow/core/platform/cpu_feature_guard.cc:210] This TensorFlow binary is optimized to use available CPU instructions in performance-critical operations.\n",
      "To enable the following instructions: AVX2 FMA, in other operations, rebuild TensorFlow with the appropriate compiler flags.\n"
     ]
    }
   ],
   "source": [
    "import tensorflow as tf"
   ]
  },
  {
   "cell_type": "markdown",
   "id": "3a55fa1f",
   "metadata": {},
   "source": [
    "## tf.meshgrid\n",
    "\n",
    "* `tf.meshgrid` is a tool that takes two 1D rulers (one for your x-axis, one for your y-axis) and uses them to create a full 2D coordinate system.\n",
    "\n"
   ]
  },
  {
   "cell_type": "code",
   "execution_count": 4,
   "id": "8aaeaba4",
   "metadata": {},
   "outputs": [
    {
     "data": {
      "text/plain": [
       "(<tf.Tensor: shape=(2, 2), dtype=float32, numpy=\n",
       " array([[0., 1.],\n",
       "        [0., 1.]], dtype=float32)>,\n",
       " <tf.Tensor: shape=(2, 2), dtype=float32, numpy=\n",
       " array([[0., 0.],\n",
       "        [1., 1.]], dtype=float32)>)"
      ]
     },
     "execution_count": 4,
     "metadata": {},
     "output_type": "execute_result"
    }
   ],
   "source": [
    "grid_size = 2\n",
    "## here we are creating a ruler with values [0., 1.] for both x and y\n",
    "coorinate_range = tf.range(grid_size, dtype=tf.float32)\n",
    "grid_X,grid_Y = tf.meshgrid(coorinate_range,coorinate_range)\n",
    "grid_X,grid_Y"
   ]
  },
  {
   "cell_type": "markdown",
   "id": "8bd9e832",
   "metadata": {},
   "source": [
    "* Since both our x and y rules have 2 coordinate points, we'll have total of 4 coordinate points in our 2D coordinate system\n",
    "* The first output, `grid_X`, tells you the x-coordinate for every point in the 2D grid. So row 0 and 0. and 1. and row 1 has same coordinate points\n",
    "* The second output, `grid_Y`, tells you the y-coordinate for every point. \n",
    "* This makes more sense when you combine them into single tensor to give us a tensor with all the grid corners\n"
   ]
  },
  {
   "cell_type": "code",
   "execution_count": 6,
   "id": "8ebbc7e7",
   "metadata": {},
   "outputs": [
    {
     "data": {
      "text/plain": [
       "<tf.Tensor: shape=(2, 2, 2), dtype=float32, numpy=\n",
       "array([[[0., 0.],\n",
       "        [1., 0.]],\n",
       "\n",
       "       [[0., 1.],\n",
       "        [1., 1.]]], dtype=float32)>"
      ]
     },
     "execution_count": 6,
     "metadata": {},
     "output_type": "execute_result"
    }
   ],
   "source": [
    "grid = tf.stack(values=[grid_X,grid_Y], axis=2)\n",
    "grid"
   ]
  },
  {
   "cell_type": "markdown",
   "id": "68f4dada",
   "metadata": {},
   "source": [
    "* Now grid is a tensor of shape (2,2,2) which gives us all the coorinates in our 2D grid based on our rules\n",
    "* First point is 0,0 then going right we get 1,0, then top left corner would be 0,1 and top right would be 1,1"
   ]
  },
  {
   "cell_type": "code",
   "execution_count": null,
   "id": "366d3ff6",
   "metadata": {},
   "outputs": [],
   "source": []
  }
 ],
 "metadata": {
  "kernelspec": {
   "display_name": "venv",
   "language": "python",
   "name": "python3"
  },
  "language_info": {
   "codemirror_mode": {
    "name": "ipython",
    "version": 3
   },
   "file_extension": ".py",
   "mimetype": "text/x-python",
   "name": "python",
   "nbconvert_exporter": "python",
   "pygments_lexer": "ipython3",
   "version": "3.12.2"
  }
 },
 "nbformat": 4,
 "nbformat_minor": 5
}
